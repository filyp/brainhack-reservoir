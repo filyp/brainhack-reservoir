{
 "cells": [
  {
   "cell_type": "code",
   "execution_count": 1,
   "metadata": {},
   "outputs": [],
   "source": [
    "import pandas as pd\n",
    "import numpy as np\n",
    "from matplotlib import pyplot as plt\n",
    "import glob"
   ]
  },
  {
   "cell_type": "markdown",
   "metadata": {},
   "source": [
    "# Classify using reservoir causality data"
   ]
  },
  {
   "cell_type": "code",
   "execution_count": 2,
   "outputs": [],
   "source": [
    "# load computed causality matrices\n",
    "con_files = [f for f in glob.glob(\"data/sub-CON*.npy\")]\n",
    "pat_files = [f for f in glob.glob(\"data/sub-PAT*.npy\")]\n",
    "\n",
    "# filter out excluded subjects\n",
    "excluded = [\"PAT08\", \"CON03\", \"PAT03\", \"PAT11\"]\n",
    "con_files = [f for f in con_files if f[9:14] not in excluded]\n",
    "pat_files = [f for f in pat_files if f[9:14] not in excluded]\n",
    "\n",
    "# transform for LDA\n",
    "con_causalities = np.array([np.load(f) for f in con_files])\n",
    "pat_causalities = np.array([np.load(f) for f in pat_files])\n",
    "con_flattened = con_causalities.reshape((con_causalities.shape[0], -1))\n",
    "pat_flattened = pat_causalities.reshape((pat_causalities.shape[0], -1))"
   ],
   "metadata": {
    "collapsed": false,
    "pycharm": {
     "name": "#%%\n"
    }
   }
  },
  {
   "cell_type": "code",
   "execution_count": 24,
   "outputs": [],
   "source": [],
   "metadata": {
    "collapsed": false,
    "pycharm": {
     "name": "#%%\n"
    }
   }
  },
  {
   "cell_type": "code",
   "execution_count": 3,
   "outputs": [],
   "source": [
    "from scipy.stats import entropy"
   ],
   "metadata": {
    "collapsed": false,
    "pycharm": {
     "name": "#%%\n"
    }
   }
  },
  {
   "cell_type": "code",
   "execution_count": 5,
   "outputs": [],
   "source": [
    "entropy_control = []\n",
    "for elem in con_flattened:\n",
    "    pd_series = pd.Series(elem)\n",
    "    counts = pd_series.value_counts()\n",
    "    entr = entropy(counts)\n",
    "    entropy_control.append(entr)"
   ],
   "metadata": {
    "collapsed": false,
    "pycharm": {
     "name": "#%%\n"
    }
   }
  },
  {
   "cell_type": "code",
   "execution_count": 6,
   "outputs": [],
   "source": [
    "entropy_patient = []\n",
    "for elem in pat_flattened:\n",
    "\tpd_series = pd.Series(elem)\n",
    "\tcounts = pd_series.value_counts()\n",
    "\tentr = entropy(counts)\n",
    "\tentropy_patient.append(entr)"
   ],
   "metadata": {
    "collapsed": false,
    "pycharm": {
     "name": "#%%\n"
    }
   }
  },
  {
   "cell_type": "code",
   "execution_count": 7,
   "outputs": [
    {
     "data": {
      "text/plain": "(0.0001730633072656175, 9.06879846894294e-05)"
     },
     "execution_count": 7,
     "metadata": {},
     "output_type": "execute_result"
    }
   ],
   "source": [
    "np.var(entropy_control), np.var(entropy_patient)"
   ],
   "metadata": {
    "collapsed": false,
    "pycharm": {
     "name": "#%%\n"
    }
   }
  },
  {
   "cell_type": "code",
   "execution_count": 8,
   "outputs": [
    {
     "name": "stderr",
     "output_type": "stream",
     "text": [
      "/Library/Frameworks/Python.framework/Versions/3.10/lib/python3.10/site-packages/outdated/utils.py:14: OutdatedPackageWarning: The package pingouin is out of date. Your version is 0.5.1, the latest is 0.5.2.\n",
      "Set the environment variable OUTDATED_IGNORE=1 to disable these warnings.\n",
      "  return warn(\n"
     ]
    },
    {
     "data": {
      "text/plain": "               T  dof alternative     p-val          CI95%   cohen-d   BF10  \\\nT-test  1.039417   18   two-sided  0.312372  [-0.01, 0.02]  0.464841  0.579   \n\n           power  \nT-test  0.166327  ",
      "text/html": "<div>\n<style scoped>\n    .dataframe tbody tr th:only-of-type {\n        vertical-align: middle;\n    }\n\n    .dataframe tbody tr th {\n        vertical-align: top;\n    }\n\n    .dataframe thead th {\n        text-align: right;\n    }\n</style>\n<table border=\"1\" class=\"dataframe\">\n  <thead>\n    <tr style=\"text-align: right;\">\n      <th></th>\n      <th>T</th>\n      <th>dof</th>\n      <th>alternative</th>\n      <th>p-val</th>\n      <th>CI95%</th>\n      <th>cohen-d</th>\n      <th>BF10</th>\n      <th>power</th>\n    </tr>\n  </thead>\n  <tbody>\n    <tr>\n      <th>T-test</th>\n      <td>1.039417</td>\n      <td>18</td>\n      <td>two-sided</td>\n      <td>0.312372</td>\n      <td>[-0.01, 0.02]</td>\n      <td>0.464841</td>\n      <td>0.579</td>\n      <td>0.166327</td>\n    </tr>\n  </tbody>\n</table>\n</div>"
     },
     "execution_count": 8,
     "metadata": {},
     "output_type": "execute_result"
    }
   ],
   "source": [
    "import pingouin as pg\n",
    "pg.ttest(entropy_patient, entropy_control)"
   ],
   "metadata": {
    "collapsed": false,
    "pycharm": {
     "name": "#%%\n"
    }
   }
  },
  {
   "cell_type": "code",
   "execution_count": null,
   "outputs": [],
   "source": [],
   "metadata": {
    "collapsed": false,
    "pycharm": {
     "name": "#%%\n"
    }
   }
  },
  {
   "cell_type": "code",
   "execution_count": null,
   "outputs": [],
   "source": [],
   "metadata": {
    "collapsed": false,
    "pycharm": {
     "name": "#%%\n"
    }
   }
  },
  {
   "cell_type": "code",
   "execution_count": 9,
   "outputs": [
    {
     "name": "stderr",
     "output_type": "stream",
     "text": [
      "/Library/Frameworks/Python.framework/Versions/3.10/lib/python3.10/site-packages/numpy/lib/function_base.py:2691: RuntimeWarning: invalid value encountered in true_divide\n",
      "  c /= stddev[:, None]\n",
      "/Library/Frameworks/Python.framework/Versions/3.10/lib/python3.10/site-packages/numpy/lib/function_base.py:2692: RuntimeWarning: invalid value encountered in true_divide\n",
      "  c /= stddev[None, :]\n"
     ]
    }
   ],
   "source": [
    "\n",
    "\n",
    "con_files = [f for f in glob.glob(\"data/sub-CON*.npy\")]\n",
    "pat_files = [f for f in glob.glob(\"data/sub-PAT*.npy\")]\n",
    "\n",
    "con_fmri_files = [f[:-21] + \".tsv\" for f in con_files]\n",
    "pat_fmri_files = [f[:-21] + \".tsv\" for f in pat_files]\n",
    "\n",
    "con_corr_matrices = []\n",
    "for filename in con_fmri_files:\n",
    "\tdf = pd.read_csv(filename, header=None)\n",
    "\tdata = np.array(df)\n",
    "\tcorrelation_matrix = np.corrcoef(data.T)\n",
    "\tcon_corr_matrices.append(correlation_matrix)\n",
    "pat_corr_matrices = []\n",
    "for filename in pat_fmri_files:\n",
    "\tdf = pd.read_csv(filename, header=None)\n",
    "\tdata = np.array(df)\n",
    "\tcorrelation_matrix = np.corrcoef(data.T)\n",
    "\tpat_corr_matrices.append(correlation_matrix)\n",
    "\n",
    "# flatten for LDA\n",
    "con_correlations = np.array(con_corr_matrices)\n",
    "pat_correlations = np.array(pat_corr_matrices)\n",
    "con_flattened_corr = con_correlations.reshape((con_correlations.shape[0], -1))\n",
    "pat_flattened_corr = pat_correlations.reshape((pat_correlations.shape[0], -1))"
   ],
   "metadata": {
    "collapsed": false,
    "pycharm": {
     "name": "#%%\n"
    }
   }
  },
  {
   "cell_type": "code",
   "execution_count": 10,
   "outputs": [],
   "source": [
    "entropy_control_corr = []\n",
    "for elem in con_flattened_corr:\n",
    "\tpd_series = pd.Series(elem)\n",
    "\tcounts = pd_series.value_counts()\n",
    "\tentr = entropy(counts)\n",
    "\tentropy_control_corr.append(entr)"
   ],
   "metadata": {
    "collapsed": false,
    "pycharm": {
     "name": "#%%\n"
    }
   }
  },
  {
   "cell_type": "code",
   "execution_count": 11,
   "outputs": [],
   "source": [
    "entropy_patient_corr = []\n",
    "for elem in pat_flattened_corr:\n",
    "\tpd_series = pd.Series(elem)\n",
    "\tcounts = pd_series.value_counts()\n",
    "\tentr = entropy(counts)\n",
    "\tentropy_patient_corr.append(entr)"
   ],
   "metadata": {
    "collapsed": false,
    "pycharm": {
     "name": "#%%\n"
    }
   }
  },
  {
   "cell_type": "code",
   "execution_count": 12,
   "outputs": [
    {
     "data": {
      "text/plain": "               T        dof alternative     p-val          CI95%   cohen-d  \\\nT-test  1.080397  21.810364   two-sided  0.291768  [-0.01, 0.03]  0.439483   \n\n        BF10     power  \nT-test  0.57  0.176677  ",
      "text/html": "<div>\n<style scoped>\n    .dataframe tbody tr th:only-of-type {\n        vertical-align: middle;\n    }\n\n    .dataframe tbody tr th {\n        vertical-align: top;\n    }\n\n    .dataframe thead th {\n        text-align: right;\n    }\n</style>\n<table border=\"1\" class=\"dataframe\">\n  <thead>\n    <tr style=\"text-align: right;\">\n      <th></th>\n      <th>T</th>\n      <th>dof</th>\n      <th>alternative</th>\n      <th>p-val</th>\n      <th>CI95%</th>\n      <th>cohen-d</th>\n      <th>BF10</th>\n      <th>power</th>\n    </tr>\n  </thead>\n  <tbody>\n    <tr>\n      <th>T-test</th>\n      <td>1.080397</td>\n      <td>21.810364</td>\n      <td>two-sided</td>\n      <td>0.291768</td>\n      <td>[-0.01, 0.03]</td>\n      <td>0.439483</td>\n      <td>0.57</td>\n      <td>0.176677</td>\n    </tr>\n  </tbody>\n</table>\n</div>"
     },
     "execution_count": 12,
     "metadata": {},
     "output_type": "execute_result"
    }
   ],
   "source": [
    "pg.ttest(entropy_patient_corr, entropy_control_corr)"
   ],
   "metadata": {
    "collapsed": false,
    "pycharm": {
     "name": "#%%\n"
    }
   }
  },
  {
   "cell_type": "code",
   "execution_count": null,
   "outputs": [],
   "source": [],
   "metadata": {
    "collapsed": false,
    "pycharm": {
     "name": "#%%\n"
    }
   }
  }
 ],
 "metadata": {
  "kernelspec": {
   "display_name": "Python 3.10.7 64-bit",
   "language": "python",
   "name": "python3"
  },
  "language_info": {
   "codemirror_mode": {
    "name": "ipython",
    "version": 3
   },
   "file_extension": ".py",
   "mimetype": "text/x-python",
   "name": "python",
   "nbconvert_exporter": "python",
   "pygments_lexer": "ipython3",
   "version": "3.10.7"
  },
  "orig_nbformat": 4,
  "vscode": {
   "interpreter": {
    "hash": "e7370f93d1d0cde622a1f8e1c04877d8463912d04d973331ad4851f04de6915a"
   }
  }
 },
 "nbformat": 4,
 "nbformat_minor": 2
}