{
 "cells": [
  {
   "cell_type": "code",
   "execution_count": 1,
   "metadata": {},
   "outputs": [],
   "source": [
    "import pandas as pd\n",
    "import numpy as np\n",
    "from matplotlib import pyplot as plt\n",
    "import glob"
   ]
  },
  {
   "cell_type": "markdown",
   "metadata": {},
   "source": [
    "# Classify using reservoir causality data"
   ]
  },
  {
   "cell_type": "code",
   "execution_count": 2,
   "metadata": {},
   "outputs": [],
   "source": [
    "# load computed causality matrices\n",
    "con_files = [f for f in glob.glob(\"data/sub-CON*.npy\")]\n",
    "pat_files = [f for f in glob.glob(\"data/sub-PAT*.npy\")]\n",
    "\n",
    "# filter out excluded subjects\n",
    "excluded = [\"PAT08\", \"CON03\", \"PAT03\", \"PAT11\"]\n",
    "con_files = [f for f in con_files if f[9:14] not in excluded]\n",
    "pat_files = [f for f in pat_files if f[9:14] not in excluded]\n",
    "\n",
    "# transform for LDA\n",
    "con_causalities = np.array([np.load(f) for f in con_files])\n",
    "pat_causalities = np.array([np.load(f) for f in pat_files])\n",
    "con_flattened = con_causalities.reshape((con_causalities.shape[0], -1))\n",
    "pat_flattened = pat_causalities.reshape((pat_causalities.shape[0], -1))"
   ]
  },
  {
   "cell_type": "code",
   "execution_count": 37,
   "outputs": [],
   "source": [
    "#merge the con and pat matrixes into a single dataset\n",
    "X = np.concatenate((con_flattened, pat_flattened), axis=1)\n",
    "X[np.isnan(X)] = 0\n",
    "labels_con = [1]*5\n",
    "labels_pat = [-1]*5\n",
    "y = np.array(labels_con + labels_pat)"
   ],
   "metadata": {
    "collapsed": false,
    "pycharm": {
     "name": "#%%\n"
    }
   }
  },
  {
   "cell_type": "code",
   "execution_count": 5,
   "metadata": {},
   "outputs": [],
   "source": [
    "from sklearn.model_selection import ShuffleSplit"
   ]
  },
  {
   "cell_type": "code",
   "execution_count": 14,
   "metadata": {},
   "outputs": [
    {
     "data": {
      "text/plain": "4"
     },
     "execution_count": 14,
     "metadata": {},
     "output_type": "execute_result"
    }
   ],
   "source": [
    "rs = ShuffleSplit(n_splits=4, test_size=.3, random_state=0)\n",
    "rs.get_n_splits(X, y, ['control', 'patient'])"
   ]
  },
  {
   "cell_type": "code",
   "execution_count": 46,
   "outputs": [
    {
     "name": "stdout",
     "output_type": "stream",
     "text": [
      "0.3333333333333333\n",
      "0.3333333333333333\n",
      "0.3333333333333333\n",
      "0.3333333333333333\n"
     ]
    }
   ],
   "source": [
    "from sklearn import svm\n",
    "\n",
    "for train_index, test_index in rs.split(X, y):\n",
    "    clf = svm.SVC(kernel = 'rbf')\n",
    "    clf.fit(X[train_index], y[train_index])\n",
    "    y_pred = clf.predict(X[test_index])\n",
    "    s = svm.SVC.score(clf, X[test_index], y[test_index])\n",
    "    print(s)"
   ],
   "metadata": {
    "collapsed": false,
    "pycharm": {
     "name": "#%%\n"
    }
   }
  },
  {
   "cell_type": "code",
   "execution_count": null,
   "outputs": [],
   "source": [],
   "metadata": {
    "collapsed": false,
    "pycharm": {
     "name": "#%%\n"
    }
   }
  }
 ],
 "metadata": {
  "kernelspec": {
   "display_name": "Python 3.10.7 64-bit",
   "language": "python",
   "name": "python3"
  },
  "language_info": {
   "codemirror_mode": {
    "name": "ipython",
    "version": 3
   },
   "file_extension": ".py",
   "mimetype": "text/x-python",
   "name": "python",
   "nbconvert_exporter": "python",
   "pygments_lexer": "ipython3",
   "version": "3.10.7"
  },
  "orig_nbformat": 4,
  "vscode": {
   "interpreter": {
    "hash": "e7370f93d1d0cde622a1f8e1c04877d8463912d04d973331ad4851f04de6915a"
   }
  }
 },
 "nbformat": 4,
 "nbformat_minor": 2
}