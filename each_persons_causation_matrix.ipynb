{
 "cells": [
  {
   "cell_type": "code",
   "execution_count": 1,
   "metadata": {},
   "outputs": [],
   "source": [
    "import pandas as pd\n",
    "import numpy as np\n",
    "from matplotlib import pyplot as plt\n",
    "from pyrcn.echo_state_network import ESNRegressor"
   ]
  },
  {
   "cell_type": "code",
   "execution_count": 3,
   "metadata": {},
   "outputs": [
    {
     "name": "stdout",
     "output_type": "stream",
     "text": [
      "data/sub-PAT15_ses-preop_task-rest_space-MNI152NLin2009cAsym_atlas-Gordon_desc-timeseries_bold.tsv\n",
      "data/sub-PAT16_ses-preop_task-rest_space-MNI152NLin2009cAsym_atlas-Gordon_desc-timeseries_bold.tsv\n",
      "data/sub-PAT14_ses-preop_task-rest_space-MNI152NLin2009cAsym_atlas-Gordon_desc-timeseries_bold.tsv\n"
     ]
    }
   ],
   "source": [
    "import glob\n",
    "import warnings\n",
    "warnings.filterwarnings(\"ignore\")\n",
    "\n",
    "# iterate through all tsv files\n",
    "for filename in glob.glob(\"data/*.tsv\"):\n",
    "    list_to_compute = [\"PAT14\", \"PAT15\", \"PAT16\"]\n",
    "    # compute only for files with those IDs\n",
    "    if not any(x in filename for x in list_to_compute):\n",
    "        continue\n",
    "\n",
    "    try:\n",
    "        print(filename)\n",
    "        \n",
    "        # load data\n",
    "        df = pd.read_csv(filename, header=None)\n",
    "        df = df.T\n",
    "\n",
    "        num_of_regions = df.shape[0]\n",
    "        train_len = int(df.shape[1] * 0.6)\n",
    "\n",
    "        causality_matrix = np.zeros((num_of_regions, num_of_regions))\n",
    "        for i in range(num_of_regions):\n",
    "            for j in range(num_of_regions):\n",
    "                if i == j:\n",
    "                    causality_matrix[i, j] = 0\n",
    "                    continue\n",
    "                x = df.iloc[i]\n",
    "                y = df.iloc[j]\n",
    "                x = x.values.reshape(-1,1)\n",
    "                y = y.values.reshape(-1,1)\n",
    "\n",
    "                X_train = np.array(x[:train_len]).reshape(-1, 1)\n",
    "                X_test = np.array(x[train_len:]).reshape(-1, 1)\n",
    "                y_train = np.array(y[:train_len])\n",
    "                y_test = np.array(y[train_len:])\n",
    "\n",
    "                reg = ESNRegressor(hidden_layer_size=20)\n",
    "                reg.fit(X=X_train, y=y_train)\n",
    "\n",
    "                y_pred = reg.predict(X_test)\n",
    "                test_corr = np.corrcoef(y_test.reshape(-1), y_pred.reshape(-1))[0, 1]\n",
    "                causality_matrix[i][j] = test_corr\n",
    "        \n",
    "        # save causality matrix\n",
    "        np.save(filename[:-4] + \"_causality_matrix.npy\", causality_matrix)\n",
    "\n",
    "    except Exception as e:\n",
    "        print(e)\n",
    "        continue"
   ]
  },
  {
   "cell_type": "code",
   "execution_count": null,
   "metadata": {},
   "outputs": [],
   "source": []
  }
 ],
 "metadata": {
  "kernelspec": {
   "display_name": "Python 3.10.7 64-bit",
   "language": "python",
   "name": "python3"
  },
  "language_info": {
   "codemirror_mode": {
    "name": "ipython",
    "version": 3
   },
   "file_extension": ".py",
   "mimetype": "text/x-python",
   "name": "python",
   "nbconvert_exporter": "python",
   "pygments_lexer": "ipython3",
   "version": "3.10.7"
  },
  "vscode": {
   "interpreter": {
    "hash": "e7370f93d1d0cde622a1f8e1c04877d8463912d04d973331ad4851f04de6915a"
   }
  }
 },
 "nbformat": 4,
 "nbformat_minor": 2
}
