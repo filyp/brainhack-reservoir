{
 "cells": [
  {
   "cell_type": "code",
   "execution_count": 1,
   "metadata": {},
   "outputs": [],
   "source": [
    "import pandas as pd\n",
    "import numpy as np\n",
    "import seaborn as sns\n",
    "from matplotlib import pyplot as plt\n",
    "from pyrcn.echo_state_network import ESNRegressor\n",
    "\n",
    "structural_mask = pd.read_csv('data/sub-CON01_ses-preop.csv',header=None)\n",
    "structural_mask = (structural_mask > 0).astype(int)\n",
    "# sns.heatmap(structural_mask)"
   ]
  },
  {
   "cell_type": "code",
   "execution_count": 2,
   "metadata": {},
   "outputs": [],
   "source": [
    "df = pd.read_csv('data/sub-CON01_ses-preop_task-rest_space-MNI152NLin2009cAsym_atlas-Gordon_desc-timeseries_bold.tsv', header=None)\n",
    "df = df.T"
   ]
  },
  {
   "cell_type": "code",
   "execution_count": 27,
   "metadata": {},
   "outputs": [],
   "source": [
    "x = df.iloc[111]\n",
    "y = df.iloc[222]\n",
    "x = x.values.reshape(-1,1)\n",
    "y = y.values.reshape(-1,1)"
   ]
  },
  {
   "cell_type": "code",
   "execution_count": 37,
   "metadata": {},
   "outputs": [],
   "source": [
    "train_len = int(len(x) * 0.6)\n",
    "\n",
    "X_train = np.array(x[:train_len]).reshape(-1, 1)\n",
    "X_test = np.array(x[train_len:]).reshape(-1, 1)\n",
    "y_train = np.array(y[:train_len])\n",
    "y_test = np.array(y[train_len:])"
   ]
  },
  {
   "cell_type": "code",
   "execution_count": 38,
   "metadata": {},
   "outputs": [],
   "source": [
    "# reg = ESNRegressor(hidden_layer_size=30)"
   ]
  },
  {
   "cell_type": "code",
   "execution_count": 39,
   "metadata": {},
   "outputs": [],
   "source": [
    "# reg.fit(X=X_train, y=y_train)"
   ]
  },
  {
   "cell_type": "code",
   "execution_count": 40,
   "metadata": {},
   "outputs": [],
   "source": [
    "# y_pred = reg.predict(X_test)\n"
   ]
  },
  {
   "cell_type": "code",
   "execution_count": 41,
   "metadata": {},
   "outputs": [],
   "source": [
    "# # correlation\n",
    "# np.corrcoef(y_test.reshape(-1), y_pred.reshape(-1))[0, 1]"
   ]
  },
  {
   "cell_type": "code",
   "execution_count": 42,
   "metadata": {},
   "outputs": [],
   "source": [
    "# plt.figure(figsize=(20, 10))\n",
    "# plt.plot(y_test, label='y_test')\n",
    "# plt.plot(y_pred, label='y_pred')"
   ]
  },
  {
   "cell_type": "code",
   "execution_count": 43,
   "metadata": {},
   "outputs": [],
   "source": [
    "# # correlation on trianing set\n",
    "# y_pred_train = reg.predict(X_train)\n",
    "# np.corrcoef(y_train.reshape(-1), y_pred_train.reshape(-1))[0, 1]"
   ]
  },
  {
   "cell_type": "code",
   "execution_count": 44,
   "metadata": {},
   "outputs": [
    {
     "name": "stdout",
     "output_type": "stream",
     "text": [
      "params  train   test\n",
      "     3   0.40   0.32\n",
      "     5   0.47   0.31\n",
      "    10   0.50   0.20\n",
      "    15   0.58   0.28\n",
      "    20   0.62   0.38\n",
      "    25   0.62   0.28\n",
      "    30   0.67   0.31\n",
      "    35   0.70   0.15\n",
      "    40   0.71   0.34\n",
      "    60   0.79   0.18\n",
      "   100   1.00   0.13\n",
      "   200   1.00   0.20\n",
      "   300   1.00   0.27\n",
      "   400   1.00   0.28\n"
     ]
    }
   ],
   "source": [
    "print(\"params  train   test\")\n",
    "for reservoir_size in [3, 5, 10, 15, 20, 25, 30, 35, 40, 60, 100, 200, 300, 400]:\n",
    "    reg = ESNRegressor(hidden_layer_size=reservoir_size)\n",
    "    reg.fit(X=X_train, y=y_train)\n",
    "\n",
    "    y_pred = reg.predict(X_test)\n",
    "    test_corr = np.corrcoef(y_test.reshape(-1), y_pred.reshape(-1))[0, 1]\n",
    "\n",
    "    y_pred_train = reg.predict(X_train)\n",
    "    train_corr = np.corrcoef(y_train.reshape(-1), y_pred_train.reshape(-1))[0, 1]\n",
    "    print(f\"{reservoir_size:6} {train_corr:6.2f} {test_corr:6.2f}\")"
   ]
  },
  {
   "cell_type": "code",
   "execution_count": 45,
   "metadata": {},
   "outputs": [
    {
     "data": {
      "text/plain": [
       "0.3002823402066563"
      ]
     },
     "execution_count": 45,
     "metadata": {},
     "output_type": "execute_result"
    }
   ],
   "source": [
    "np.corrcoef(y_test.reshape(-1), X_test.reshape(-1))[0, 1]"
   ]
  },
  {
   "cell_type": "code",
   "execution_count": null,
   "metadata": {},
   "outputs": [],
   "source": []
  }
 ],
 "metadata": {
  "kernelspec": {
   "display_name": "Python 3.10.7 64-bit",
   "language": "python",
   "name": "python3"
  },
  "language_info": {
   "codemirror_mode": {
    "name": "ipython",
    "version": 3
   },
   "file_extension": ".py",
   "mimetype": "text/x-python",
   "name": "python",
   "nbconvert_exporter": "python",
   "pygments_lexer": "ipython3",
   "version": "3.10.7"
  },
  "vscode": {
   "interpreter": {
    "hash": "e7370f93d1d0cde622a1f8e1c04877d8463912d04d973331ad4851f04de6915a"
   }
  }
 },
 "nbformat": 4,
 "nbformat_minor": 2
}
