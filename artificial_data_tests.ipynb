{
 "cells": [
  {
   "cell_type": "code",
   "execution_count": null,
   "metadata": {},
   "outputs": [],
   "source": [
    "import pandas as pd\n",
    "import numpy as np\n",
    "import seaborn as sns\n",
    "from matplotlib import pyplot as plt"
   ]
  },
  {
   "cell_type": "code",
   "execution_count": null,
   "metadata": {},
   "outputs": [],
   "source": [
    "# generate synthetic data\n",
    "\n",
    "x = [0.1]\n",
    "y = [0.2]\n",
    "for _ in range(10):\n",
    "    new_x = x[-1] * (3.78 - 3.78 * x[-1])\n",
    "    new_y = y[-1] * (3.77 - 3.77 * y[-1])\n",
    "    x.append(new_x)\n",
    "    y.append(new_y)\n",
    "\n",
    "# for _ in range(2000000):\n",
    "for _ in range(20000):\n",
    "    new_x = x[-1] * (3.78 - 3.78 * x[-1])\n",
    "    new_y = y[-1] * (3.77 - 3.77 * y[-1] - 0.8 * x[-10])\n",
    "    x.append(new_x)\n",
    "    y.append(new_y)"
   ]
  },
  {
   "cell_type": "code",
   "execution_count": null,
   "metadata": {},
   "outputs": [],
   "source": [
    "# plt.figure(figsize=(22, 6))\n",
    "\n",
    "# plt.plot(x[:300])\n",
    "# plt.plot(y[:300])"
   ]
  },
  {
   "cell_type": "code",
   "execution_count": null,
   "metadata": {},
   "outputs": [],
   "source": [
    "# plt.figure(figsize=(12, 12))\n",
    "\n",
    "# # plt.plot(x[:300], y[:300], linewidth=0.3)\n",
    "# plt.scatter(x, y, s=0.05)"
   ]
  },
  {
   "cell_type": "code",
   "execution_count": null,
   "metadata": {},
   "outputs": [],
   "source": [
    "# # correlation\n",
    "# np.corrcoef(x, y)[0, 1]"
   ]
  },
  {
   "cell_type": "markdown",
   "metadata": {},
   "source": [
    "# Reservoir computing"
   ]
  },
  {
   "cell_type": "code",
   "execution_count": null,
   "metadata": {},
   "outputs": [],
   "source": [
    "from easyesn import PredictionESN\n"
   ]
  },
  {
   "cell_type": "code",
   "execution_count": null,
   "metadata": {},
   "outputs": [],
   "source": []
  }
 ],
 "metadata": {
  "kernelspec": {
   "display_name": "Python 3.10.7 64-bit",
   "language": "python",
   "name": "python3"
  },
  "language_info": {
   "codemirror_mode": {
    "name": "ipython",
    "version": 3
   },
   "file_extension": ".py",
   "mimetype": "text/x-python",
   "name": "python",
   "nbconvert_exporter": "python",
   "pygments_lexer": "ipython3",
   "version": "3.10.7"
  },
  "vscode": {
   "interpreter": {
    "hash": "e7370f93d1d0cde622a1f8e1c04877d8463912d04d973331ad4851f04de6915a"
   }
  }
 },
 "nbformat": 4,
 "nbformat_minor": 2
}
