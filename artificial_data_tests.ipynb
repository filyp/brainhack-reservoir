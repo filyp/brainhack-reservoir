{
 "cells": [
  {
   "cell_type": "code",
   "execution_count": null,
   "metadata": {},
   "outputs": [],
   "source": [
    "import pandas as pd\n",
    "import numpy as np\n",
    "import seaborn as sns\n",
    "from matplotlib import pyplot as plt"
   ]
  },
  {
   "cell_type": "code",
   "execution_count": null,
   "metadata": {},
   "outputs": [],
   "source": [
    "# generate synthetic data\n",
    "\n",
    "x = [0.1]\n",
    "y = [0.2]\n",
    "for _ in range(10):\n",
    "    new_x = x[-1] * (3.78 - 3.78 * x[-1])\n",
    "    new_y = y[-1] * (3.77 - 3.77 * y[-1])\n",
    "    x.append(new_x)\n",
    "    y.append(new_y)\n",
    "\n",
    "# for _ in range(2000000):\n",
    "for _ in range(20000):\n",
    "    new_x = x[-1] * (3.78 - 3.78 * x[-1])\n",
    "    new_y = y[-1] * (3.77 - 3.77 * y[-1] - 0.8 * x[-10])\n",
    "    x.append(new_x)\n",
    "    y.append(new_y)"
   ]
  },
  {
   "cell_type": "code",
   "execution_count": null,
   "metadata": {},
   "outputs": [],
   "source": [
    "# plt.figure(figsize=(22, 6))\n",
    "\n",
    "# plt.plot(x[:300])\n",
    "# plt.plot(y[:300])"
   ]
  },
  {
   "cell_type": "code",
   "execution_count": null,
   "metadata": {},
   "outputs": [],
   "source": [
    "# plt.figure(figsize=(12, 12))\n",
    "\n",
    "# # plt.plot(x[:300], y[:300], linewidth=0.3)\n",
    "# plt.scatter(x, y, s=0.05)"
   ]
  },
  {
   "cell_type": "code",
   "execution_count": null,
   "metadata": {},
   "outputs": [],
   "source": [
    "# # correlation\n",
    "# np.corrcoef(x, y)[0, 1]"
   ]
  },
  {
   "cell_type": "markdown",
   "metadata": {},
   "source": [
    "# Reservoir computing"
   ]
  },
  {
   "cell_type": "code",
   "execution_count": null,
   "metadata": {},
   "outputs": [],
   "source": [
    "from pyrcn.echo_state_network import ESNRegressor"
   ]
  },
  {
   "cell_type": "code",
   "execution_count": null,
   "metadata": {},
   "outputs": [],
   "source": [
    "# reg = ESNRegressor(n_readout=1, n_components=1000, spectral_radius=0.9, random_state=42)\n",
    "reg = ESNRegressor(hidden_layer_size=1000)"
   ]
  },
  {
   "cell_type": "code",
   "execution_count": null,
   "metadata": {},
   "outputs": [],
   "source": [
    "train_len = int(len(x) * 0.6)\n",
    "X_train = np.array(x[:train_len]).reshape(-1, 1)\n",
    "X_test = np.array(x[train_len:]).reshape(-1, 1)\n",
    "y_train = np.array(y[:train_len])\n",
    "y_test = np.array(y[train_len:])"
   ]
  },
  {
   "cell_type": "code",
   "execution_count": null,
   "metadata": {},
   "outputs": [],
   "source": [
    "reg.fit(X=X_train, y=y_train)"
   ]
  },
  {
   "cell_type": "code",
   "execution_count": null,
   "metadata": {},
   "outputs": [],
   "source": [
    "y_pred = reg.predict(X_test)"
   ]
  },
  {
   "cell_type": "code",
   "execution_count": null,
   "metadata": {},
   "outputs": [],
   "source": [
    "# plt.figure(figsize=(22, 6))\n",
    "# # plt.ylim(-1, 1)\n",
    "\n",
    "# # plt.plot(y_test)\n",
    "# # plt.plot(y_pred)\n",
    "# plt.plot(y_test[100:])\n",
    "# plt.plot(y_pred[100:])"
   ]
  },
  {
   "cell_type": "code",
   "execution_count": null,
   "metadata": {},
   "outputs": [],
   "source": [
    "# correlation\n",
    "np.corrcoef(y_test[100:], y_pred[100:])[0, 1]"
   ]
  },
  {
   "cell_type": "code",
   "execution_count": null,
   "metadata": {},
   "outputs": [],
   "source": [
    "# correlation on trianing set\n",
    "y_pred_train = reg.predict(X_train)\n",
    "np.corrcoef(y_train, y_pred_train)[0, 1]"
   ]
  },
  {
   "cell_type": "code",
   "execution_count": null,
   "metadata": {},
   "outputs": [],
   "source": [
    "# scatter plot\n",
    "plt.figure(figsize=(12, 12))\n",
    "plt.scatter(y_test[100:], y_pred[100:], s=0.3)"
   ]
  },
  {
   "cell_type": "code",
   "execution_count": null,
   "metadata": {},
   "outputs": [],
   "source": [
    "reg.get_params()"
   ]
  }
 ],
 "metadata": {
  "kernelspec": {
   "display_name": "Python 3.10.7 64-bit",
   "language": "python",
   "name": "python3"
  },
  "language_info": {
   "codemirror_mode": {
    "name": "ipython",
    "version": 3
   },
   "file_extension": ".py",
   "mimetype": "text/x-python",
   "name": "python",
   "nbconvert_exporter": "python",
   "pygments_lexer": "ipython3",
   "version": "3.10.7"
  },
  "vscode": {
   "interpreter": {
    "hash": "e7370f93d1d0cde622a1f8e1c04877d8463912d04d973331ad4851f04de6915a"
   }
  }
 },
 "nbformat": 4,
 "nbformat_minor": 2
}
